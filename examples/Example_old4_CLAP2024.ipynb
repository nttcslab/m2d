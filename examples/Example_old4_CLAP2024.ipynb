{
 "cells": [
  {
   "cell_type": "markdown",
   "metadata": {},
   "source": [
    "# M2D-CLAP example\n",
    "\n",
    "This is an example of CLAP part of our Interspeech 2024 paper.\n",
    "\n",
    "```bibtex\n",
    "@InProceedings{\t  niizumi2024M2D-CLAP,\n",
    "  title\t\t= {{M2D-CLAP: Masked Modeling Duo Meets CLAP for Learning General-purpose Audio-Language Representation}},\n",
    "  author\t= {Daisuke Niizumi and Daiki Takeuchi and Yasunori Ohishi and Noboru Harada and Masahiro Yasuda and Shunsuke Tsubaki and Keisuke Imoto},\n",
    "  year\t\t= {2024},\n",
    "  booktitle\t= {Interspeech},\n",
    "  pages\t\t= {57--61},\n",
    "  doi\t\t= {10.21437/Interspeech.2024-29},\n",
    "  issn\t\t= {2958-1796}}\n",
    "```"
   ]
  },
  {
   "cell_type": "code",
   "execution_count": 1,
   "metadata": {},
   "outputs": [],
   "source": [
    "import warnings; warnings.simplefilter('ignore')\n",
    "import logging\n",
    "logging.basicConfig(level=logging.INFO)\n",
    "import sys\n",
    "sys.path.append('..')\n",
    "import torch\n",
    "from pathlib import Path\n",
    "import numpy as np"
   ]
  },
  {
   "cell_type": "code",
   "execution_count": 2,
   "metadata": {},
   "outputs": [
    {
     "name": "stdout",
     "output_type": "stream",
     "text": [
      " using default norm_stats: tensor([-7.1000,  4.2000])\n"
     ]
    },
    {
     "name": "stderr",
     "output_type": "stream",
     "text": [
      "INFO:root:<All keys matched successfully>\n",
      "INFO:root:Model input size: [80, 608]\n",
      "INFO:root:Using weights: m2d_clap_vit_base-80x608p16x16-240128/checkpoint-300.pth\n",
      "INFO:root:Feature dimension: 768\n",
      "INFO:root:Norm stats: -7.099999904632568, 4.199999809265137\n",
      "INFO:root:Runtime MelSpectrogram(16000, 400, 400, 160, 80, 50, 8000):\n",
      "INFO:root:MelSpectrogram(\n",
      "  Mel filter banks size = (80, 201), trainable_mel=False\n",
      "  (stft): STFT(n_fft=400, Fourier Kernel size=(201, 1, 400), iSTFT=False, trainable=False)\n",
      ")\n"
     ]
    },
    {
     "name": "stdout",
     "output_type": "stream",
     "text": [
      " using 155 parameters, while dropped 251 out of 406 parameters from m2d_clap_vit_base-80x608p16x16-240128/checkpoint-300.pth\n",
      " (dropped: ['mask_token', 'decoder_pos_embed', 'logit_scale', 'decoder_embed.weight', 'decoder_embed.bias'] ...)\n",
      "<All keys matched successfully>\n"
     ]
    }
   ],
   "source": [
    "from portable_m2d import PortableM2D\n",
    "weight = 'm2d_clap_vit_base-80x608p16x16-240128/checkpoint-300.pth'\n",
    "model = PortableM2D(weight_file=weight, flat_features=True)\n"
   ]
  },
  {
   "cell_type": "code",
   "execution_count": 3,
   "metadata": {},
   "outputs": [],
   "source": [
    "files = ['AudioSetWav16k/eval_segments/-22tna7KHzI_28.000.wav',\n",
    "    'AudioSetWav16k/eval_segments/-0xzrMun0Rs_30.000.wav',\n",
    "    'AudioSetWav16k/eval_segments/3tUlhM80ObM_0.000.wav',\n",
    "    'AudioSetWav16k/eval_segments/-1nilez17Dg_30.000.wav',\n",
    "    'AudioSetWav16k/eval_segments/--U7joUcTCo_0.000.wav',\n",
    "    'AudioSetWav16k/eval_segments/5hlsVoxJPNI_30.000.wav',]\n",
    "captions = ['The sound of Explosion.',\n",
    "    'The sound of Stomach rumble, and Music.',\n",
    "    'The sound of Knock.',\n",
    "    'The sound of Heart murmur, and Speech.',\n",
    "    \"A man's laughter abruptly interrupts as someone sneezes, suggesting a casual gathering or social event.\",\n",
    "    \"The sound of Christmas music, Music, and Speech.\",]"
   ]
  },
  {
   "cell_type": "code",
   "execution_count": 4,
   "metadata": {},
   "outputs": [],
   "source": [
    "import librosa\n",
    "\n",
    "with torch.no_grad():\n",
    "    audios = [librosa.load(f, sr=16000)[0] for f in files]\n",
    "    audios = [np.pad(a, (0, 16000 * 10 - a.shape[-1])) for a in audios]  # Make sure all files are 10-s.\n",
    "    audios = torch.tensor(audios)\n",
    "    audio_embs = model.encode_clap_audio(audios)\n",
    "    text_embs = model.encode_clap_text(captions)"
   ]
  },
  {
   "cell_type": "code",
   "execution_count": 5,
   "metadata": {},
   "outputs": [
    {
     "data": {
      "text/plain": [
       "(torch.Size([6, 768]), torch.Size([6, 768]))"
      ]
     },
     "execution_count": 5,
     "metadata": {},
     "output_type": "execute_result"
    }
   ],
   "source": [
    "audio_embs.shape, text_embs.shape"
   ]
  },
  {
   "cell_type": "code",
   "execution_count": 6,
   "metadata": {},
   "outputs": [
    {
     "name": "stdout",
     "output_type": "stream",
     "text": [
      "[[ 0.08543  0.08029  0.02879  0.01966  0.00866 -0.00212]\n",
      " [-0.0049   0.06878  0.02576 -0.00711 -0.02833  0.01233]\n",
      " [ 0.04179  0.01696  0.13246 -0.00467  0.01645 -0.00098]\n",
      " [-0.00217  0.0425  -0.00594  0.10569 -0.00474  0.00028]\n",
      " [ 0.05769  0.02339  0.04664  0.01432  0.08724  0.02567]\n",
      " [-0.04205 -0.00013 -0.04844  0.00155 -0.02319  0.04316]]\n"
     ]
    },
    {
     "data": {
      "image/png": "[encoded data removed]",
      "text/plain": [
       "<Figure size 640x480 with 1 Axes>"
      ]
     },
     "metadata": {},
     "output_type": "display_data"
    }
   ],
   "source": [
    "from sklearn.metrics.pairwise import cosine_similarity\n",
    "import matplotlib.pyplot as plt\n",
    "\n",
    "H = cosine_similarity(audio_embs, text_embs)\n",
    "plt.imshow(H, interpolation='none')\n",
    "np.set_printoptions(precision=5, suppress=True)\n",
    "print(H)"
   ]
  },
  {
   "cell_type": "code",
   "execution_count": null,
   "metadata": {},
   "outputs": [],
   "source": []
  }
 ],
 "metadata": {
  "kernelspec": {
   "display_name": "ar",
   "language": "python",
   "name": "python3"
  },
  "language_info": {
   "codemirror_mode": {
    "name": "ipython",
    "version": 3
   },
   "file_extension": ".py",
   "mimetype": "text/x-python",
   "name": "python",
   "nbconvert_exporter": "python",
   "pygments_lexer": "ipython3",
   "version": "3.9.18"
  }
 },
 "nbformat": 4,
 "nbformat_minor": 2
}

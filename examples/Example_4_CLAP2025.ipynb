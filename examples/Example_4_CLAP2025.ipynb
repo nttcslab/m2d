{
 "cells": [
  {
   "cell_type": "markdown",
   "metadata": {},
   "source": [
    "# M2D-CLAP example\n",
    "\n",
    "This is an example of the CLAP features from M2D-CLAP $_{2025}$, the journal paper version.\n",
    "\n",
    "Download and prepare the wweight [`m2d_clap_vit_base-80x1001p16x16p16kpBpTI-2025`](https://github.com/nttcslab/m2d/releases/download/v0.5.0/m2d_clap_vit_base-80x1001p16x16p16kpBpTI-2025.zip) before you run.\n",
    "\n",
    "```bibtex\n",
    "@article{niizumi2025m2d-clap,\n",
    "    title   = {{M2D-CLAP: Exploring General-purpose Audio-Language Representations Beyond CLAP}},\n",
    "    author  = {Daisuke Niizumi and Daiki Takeuchi and Masahiro Yasuda and Binh Thien Nguyen and Yasunori Ohishi and Noboru Harada},\n",
    "    journal = {IEEE Access},\n",
    "    year    = {2025},\n",
    "    url     = {https://ieeexplore.ieee.org/document/11168481}}\n",
    "```"
   ]
  },
  {
   "cell_type": "code",
   "execution_count": 1,
   "metadata": {},
   "outputs": [],
   "source": [
    "import warnings; warnings.simplefilter('ignore')\n",
    "import logging\n",
    "logging.basicConfig(level=logging.INFO)\n",
    "import torch\n",
    "from pathlib import Path\n",
    "import numpy as np"
   ]
  },
  {
   "cell_type": "code",
   "execution_count": 2,
   "metadata": {},
   "outputs": [
    {
     "name": "stderr",
     "output_type": "stream",
     "text": [
      "INFO:root:<All keys matched successfully>\n",
      "INFO:root:Model input size: [80, 1001]\n",
      "INFO:root:Using weights: m2d_clap_vit_base-80x1001p16x16p16kpBpTI-2025/checkpoint-30.pth\n",
      "INFO:root:Feature dimension: 768\n",
      "INFO:root:Norm stats: -7.261779308319092, 4.3511505126953125\n",
      "INFO:root:Runtime MelSpectrogram(16000, 400, 400, 160, 80, 50, 8000):\n",
      "INFO:root:MelSpectrogram(\n",
      "  Mel filter banks size = (80, 201), trainable_mel=False\n",
      "  (stft): STFT(n_fft=400, Fourier Kernel size=(201, 1, 400), iSTFT=False, trainable=False)\n",
      ")\n"
     ]
    },
    {
     "name": "stdout",
     "output_type": "stream",
     "text": [
      " using 166 parameters from m2d_clap_vit_base-80x1001p16x16p16kpBpTI-2025/checkpoint-30.pth\n",
      " (included audio_proj params: ['audio_proj.sem_token', 'audio_proj.sem_blocks.0.norm1.weight', 'audio_proj.sem_blocks.0.norm1.bias', 'audio_proj.sem_blocks.0.attn.qkv.weight', 'audio_proj.sem_blocks.0.attn.qkv.bias']\n",
      " (included text_proj params: []\n",
      " (dropped: [] )\n",
      "<All keys matched successfully>\n",
      " using norm_stats: -7.261779308319092, 4.3511505126953125\n"
     ]
    }
   ],
   "source": [
    "from portable_m2d import PortableM2D\n",
    "weight = 'm2d_clap_vit_base-80x1001p16x16p16kpBpTI-2025/checkpoint-30.pth'\n",
    "model = PortableM2D(weight_file=weight, flat_features=True)\n"
   ]
  },
  {
   "cell_type": "code",
   "execution_count": 3,
   "metadata": {},
   "outputs": [],
   "source": [
    "files = ['AudioSetWav16k/eval_segments/-22tna7KHzI_28.000.wav',\n",
    "    'AudioSetWav16k/eval_segments/-0xzrMun0Rs_30.000.wav',\n",
    "    'AudioSetWav16k/eval_segments/3tUlhM80ObM_0.000.wav',\n",
    "    'AudioSetWav16k/eval_segments/-1nilez17Dg_30.000.wav',\n",
    "    'AudioSetWav16k/eval_segments/--U7joUcTCo_0.000.wav',\n",
    "    'AudioSetWav16k/eval_segments/5hlsVoxJPNI_30.000.wav',]\n",
    "captions = ['The sound of Explosion.',\n",
    "    'The sound of Stomach rumble, and Music.',\n",
    "    'The sound of Knock.',\n",
    "    'The sound of Heart murmur, and Speech.',\n",
    "    \"A man's laughter abruptly interrupts as someone sneezes, suggesting a casual gathering or social event.\",\n",
    "    \"The sound of Christmas music, Music, and Speech.\",]"
   ]
  },
  {
   "cell_type": "code",
   "execution_count": 4,
   "metadata": {},
   "outputs": [
    {
     "name": "stderr",
     "output_type": "stream",
     "text": [
      "INFO:root: using text encoder: BERT base\n"
     ]
    },
    {
     "name": "stdout",
     "output_type": "stream",
     "text": [
      " using model.text_encoder from m2d_clap_vit_base-80x1001p16x16p16kpBpTI-2025/checkpoint-30.pth\n"
     ]
    }
   ],
   "source": [
    "import librosa\n",
    "\n",
    "with torch.no_grad():\n",
    "    audios = [librosa.load(f, sr=16000)[0] for f in files]\n",
    "    audios = [np.pad(a, (0, 16000 * 10 - a.shape[-1])) for a in audios]  # Make sure all files are 10-s.\n",
    "    audios = torch.tensor(audios)\n",
    "    audio_embs = model.encode_clap_audio(audios)\n",
    "    text_embs = model.encode_clap_text(captions)"
   ]
  },
  {
   "cell_type": "code",
   "execution_count": 5,
   "metadata": {},
   "outputs": [
    {
     "data": {
      "text/plain": [
       "(torch.Size([6, 768]), torch.Size([6, 768]))"
      ]
     },
     "execution_count": 5,
     "metadata": {},
     "output_type": "execute_result"
    }
   ],
   "source": [
    "audio_embs.shape, text_embs.shape"
   ]
  },
  {
   "cell_type": "code",
   "execution_count": 6,
   "metadata": {},
   "outputs": [
    {
     "name": "stdout",
     "output_type": "stream",
     "text": [
      "[[0.28606 0.2381  0.23852 0.21239 0.11076 0.13236]\n",
      " [0.22148 0.37747 0.2139  0.18893 0.12501 0.21492]\n",
      " [0.26712 0.24247 0.37288 0.21389 0.10618 0.15825]\n",
      " [0.18678 0.22834 0.20472 0.39384 0.10315 0.22582]\n",
      " [0.25185 0.13545 0.23883 0.18921 0.32387 0.1312 ]\n",
      " [0.19546 0.24592 0.1791  0.23728 0.0799  0.31999]]\n"
     ]
    },
    {
     "data": {
      "image/png": "[encoded data removed]",
      "text/plain": [
       "<Figure size 640x480 with 1 Axes>"
      ]
     },
     "metadata": {},
     "output_type": "display_data"
    }
   ],
   "source": [
    "from sklearn.metrics.pairwise import cosine_similarity\n",
    "import matplotlib.pyplot as plt\n",
    "\n",
    "H = cosine_similarity(audio_embs, text_embs)\n",
    "plt.imshow(H, interpolation='none')\n",
    "np.set_printoptions(precision=5, suppress=True)\n",
    "print(H)"
   ]
  }
 ],
 "metadata": {
  "kernelspec": {
   "display_name": "ar",
   "language": "python",
   "name": "python3"
  },
  "language_info": {
   "codemirror_mode": {
    "name": "ipython",
    "version": 3
   },
   "file_extension": ".py",
   "mimetype": "text/x-python",
   "name": "python",
   "nbconvert_exporter": "python",
   "pygments_lexer": "ipython3",
   "version": "3.9.18"
  }
 },
 "nbformat": 4,
 "nbformat_minor": 2
}
